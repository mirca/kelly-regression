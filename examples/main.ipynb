{
 "cells": [
  {
   "cell_type": "code",
   "execution_count": 1,
   "id": "22bf596f",
   "metadata": {},
   "outputs": [],
   "source": [
    "import numpy as np\n",
    "import matplotlib.pyplot as plt\n",
    "import jax.numpy as jnp\n",
    "from jax import grad, jit, jacfwd"
   ]
  },
  {
   "cell_type": "code",
   "execution_count": 2,
   "id": "1b3b9d92",
   "metadata": {},
   "outputs": [],
   "source": [
    "m, b = (2, 10)\n",
    "x = np.linspace(0, 5, 100)\n",
    "noise = np.random.normal(size=len(x))\n",
    "y = x * m + b + noise\n",
    "outliers = np.random.choice(range(1, len(x)), size=len(x) // 5, replace=False)"
   ]
  },
  {
   "cell_type": "code",
   "execution_count": 3,
   "id": "91b80640",
   "metadata": {},
   "outputs": [],
   "source": [
    "y[outliers] += 4 * np.random.normal(loc=2, size=len(y[outliers])) "
   ]
  },
  {
   "cell_type": "code",
   "execution_count": 4,
   "id": "0be16ecf",
   "metadata": {},
   "outputs": [
    {
     "data": {
      "text/plain": [
       "[<matplotlib.lines.Line2D at 0x7fc844f6f760>]"
      ]
     },
     "execution_count": 4,
     "metadata": {},
     "output_type": "execute_result"
    },
    {
     "data": {
      "image/png": "[encoded data removed]",
      "text/plain": [
       "<Figure size 432x288 with 1 Axes>"
      ]
     },
     "metadata": {
      "needs_background": "light"
     },
     "output_type": "display_data"
    }
   ],
   "source": [
    "plt.plot(x, y, 'ko', markersize=2)\n",
    "plt.plot(x, x * m + b)"
   ]
  },
  {
   "cell_type": "code",
   "execution_count": 5,
   "id": "658d6515",
   "metadata": {},
   "outputs": [],
   "source": [
    "x_mat = np.vander(x, N=2)"
   ]
  },
  {
   "cell_type": "code",
   "execution_count": 6,
   "id": "444bc647",
   "metadata": {},
   "outputs": [],
   "source": [
    "beta_lsq = np.linalg.solve((x_mat.T @ x_mat), x_mat.T @ y)"
   ]
  },
  {
   "cell_type": "code",
   "execution_count": 7,
   "id": "e4ad87c4",
   "metadata": {},
   "outputs": [
    {
     "data": {
      "text/plain": [
       "array([ 2.14223356, 11.16404411])"
      ]
     },
     "execution_count": 7,
     "metadata": {},
     "output_type": "execute_result"
    }
   ],
   "source": [
    "beta_lsq"
   ]
  },
  {
   "cell_type": "code",
   "execution_count": 8,
   "id": "37d3b7f9",
   "metadata": {},
   "outputs": [
    {
     "data": {
      "text/plain": [
       "[<matplotlib.lines.Line2D at 0x7fc845075340>]"
      ]
     },
     "execution_count": 8,
     "metadata": {},
     "output_type": "execute_result"
    },
    {
     "data": {
      "image/png": "[encoded data removed]",
      "text/plain": [
       "<Figure size 432x288 with 1 Axes>"
      ]
     },
     "metadata": {
      "needs_background": "light"
     },
     "output_type": "display_data"
    }
   ],
   "source": [
    "plt.plot(x, y, 'ko', markersize=2)\n",
    "plt.plot(x, x * m + b)\n",
    "plt.plot(x, x * beta_lsq[0] + beta_lsq[1])"
   ]
  },
  {
   "cell_type": "code",
   "execution_count": 9,
   "id": "e64ca6dc",
   "metadata": {},
   "outputs": [],
   "source": [
    "class kelly_regression:\n",
    "    def __init__(self, x_mat, y, nu = 4):\n",
    "        self.x_mat = x_mat\n",
    "        self.y = y\n",
    "        self.nu = nu\n",
    "        self.fun = []\n",
    "    \n",
    "    def objective_fun(self, weights):\n",
    "        return jnp.sum(jnp.log(1 + (1/self.nu) * (y - self.x_mat @ weights) ** 2))\n",
    "    \n",
    "    def gradient(self):\n",
    "        return jit(jacfwd(self.objective_fun))\n",
    "    \n",
    "    def optimize(self, learning_rate=1e-4, maxiter=10000):\n",
    "        grad = self.gradient()\n",
    "        # start with least squares solution\n",
    "        weights_start = np.linalg.solve((x_mat.T @ x_mat), x_mat.T @ y)\n",
    "        weights_kr = weights_start.copy()\n",
    "        weights_next = weights_start.copy()\n",
    "        fun_start = self.objective_fun(weights_start)\n",
    "        self.fun.append(fun_start)\n",
    "        for i in range(maxiter):\n",
    "            weights_kr += - learning_rate * grad(weights_kr)\n",
    "            fun_next = self.objective_fun(weights_kr)\n",
    "            self.fun.append(fun_next)\n",
    "            has_weights_converged = (\n",
    "                np.abs(weights_kr - weights_next)\n",
    "                <= 0.5 * 1e-6 * (np.abs(weights_kr) + np.abs(weights_next))\n",
    "            ).all()\n",
    "            if has_weights_converged:\n",
    "                break\n",
    "            else:\n",
    "                weights_next = weights_kr\n",
    "        return weights_kr"
   ]
  },
  {
   "cell_type": "code",
   "execution_count": 10,
   "id": "158b3352",
   "metadata": {},
   "outputs": [],
   "source": [
    "kr = kelly_regression(x_mat, y, nu = 4)"
   ]
  },
  {
   "cell_type": "code",
   "execution_count": 11,
   "id": "74319c2c",
   "metadata": {},
   "outputs": [
    {
     "name": "stderr",
     "output_type": "stream",
     "text": [
      "WARNING:absl:No GPU/TPU found, falling back to CPU. (Set TF_CPP_MIN_LOG_LEVEL=0 and rerun for more info.)\n"
     ]
    }
   ],
   "source": [
    "beta_kr = kr.optimize()"
   ]
  },
  {
   "cell_type": "code",
   "execution_count": 12,
   "id": "07933238",
   "metadata": {},
   "outputs": [
    {
     "data": {
      "text/plain": [
       "DeviceArray([2.1451786, 9.672718 ], dtype=float32)"
      ]
     },
     "execution_count": 12,
     "metadata": {},
     "output_type": "execute_result"
    }
   ],
   "source": [
    "beta_kr"
   ]
  },
  {
   "cell_type": "code",
   "execution_count": 13,
   "id": "7877d947",
   "metadata": {},
   "outputs": [
    {
     "data": {
      "text/plain": [
       "[<matplotlib.lines.Line2D at 0x7fc846d060d0>]"
      ]
     },
     "execution_count": 13,
     "metadata": {},
     "output_type": "execute_result"
    },
    {
     "data": {
      "image/png": "[encoded data removed]",
      "text/plain": [
       "<Figure size 432x288 with 1 Axes>"
      ]
     },
     "metadata": {
      "needs_background": "light"
     },
     "output_type": "display_data"
    }
   ],
   "source": [
    "plt.plot(kr.fun)"
   ]
  },
  {
   "cell_type": "code",
   "execution_count": 14,
   "id": "953b7d95",
   "metadata": {},
   "outputs": [
    {
     "data": {
      "text/plain": [
       "<matplotlib.legend.Legend at 0x7fc8410ba7c0>"
      ]
     },
     "execution_count": 14,
     "metadata": {},
     "output_type": "execute_result"
    },
    {
     "data": {
      "image/png": "[encoded data removed]",
      "text/plain": [
       "<Figure size 432x288 with 1 Axes>"
      ]
     },
     "metadata": {
      "needs_background": "light"
     },
     "output_type": "display_data"
    }
   ],
   "source": [
    "plt.plot(x, y, 'ko', markersize=2)\n",
    "plt.plot(x, x * m + b, label=\"true\")\n",
    "plt.plot(x, x * beta_lsq[0] + beta_lsq[1], label=\"lsq\")\n",
    "plt.plot(x, x * beta_kr[0] + beta_kr[1], label='kelly')\n",
    "plt.legend()"
   ]
  },
  {
   "cell_type": "code",
   "execution_count": null,
   "id": "8a88b087",
   "metadata": {},
   "outputs": [],
   "source": []
  }
 ],
 "metadata": {
  "kernelspec": {
   "display_name": "Python 3",
   "language": "python",
   "name": "python3"
  },
  "language_info": {
   "codemirror_mode": {
    "name": "ipython",
    "version": 3
   },
   "file_extension": ".py",
   "mimetype": "text/x-python",
   "name": "python",
   "nbconvert_exporter": "python",
   "pygments_lexer": "ipython3",
   "version": "3.8.3"
  }
 },
 "nbformat": 4,
 "nbformat_minor": 5
}
